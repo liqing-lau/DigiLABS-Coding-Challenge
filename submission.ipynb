{
 "cells": [
  {
   "cell_type": "markdown",
   "id": "1a10c934",
   "metadata": {},
   "source": [
    "Content\n",
    "\n",
    "1. [Data Cleaning and Preparation](#data_prep)\n",
    "2. [Use cases](#users)\n",
    "    - [Use Case 1](#use1)\n",
    "    - [Use Case 2](#use2)    \n",
    "    - [Use Case 3](#use3)    "
   ]
  },
  {
   "cell_type": "markdown",
   "id": "58d57609",
   "metadata": {},
   "source": [
    "<a id='data_prep'></a><h1>1. Data Cleaning and Preparation</h1>"
   ]
  },
  {
   "cell_type": "code",
   "execution_count": 1,
   "id": "f10dbf77",
   "metadata": {},
   "outputs": [],
   "source": [
    "import pandas as pd\n",
    "import requests\n",
    "import urllib.request\n",
    "import time\n",
    "from bs4 import BeautifulSoup\n",
    "import numpy as np\n",
    "import pandas as pd\n",
    "from urllib.request import urlopen"
   ]
  },
  {
   "cell_type": "code",
   "execution_count": 2,
   "id": "43d99aa3",
   "metadata": {},
   "outputs": [],
   "source": [
    "excel = pd.ExcelFile('SocMed_Geographic.xlsx')\n",
    "df = pd.read_excel(excel, 'Sheet1')"
   ]
  },
  {
   "cell_type": "code",
   "execution_count": 3,
   "id": "a8325eb1",
   "metadata": {},
   "outputs": [],
   "source": [
    "def rename_col(df):\n",
    "    df.fillna(0, inplace=True)\n",
    "    df_col = {}\n",
    "    \n",
    "    for i in range(len(df.columns)): \n",
    "        existing_col_name = df.columns[i]\n",
    "        if i != 0: \n",
    "            country = df.iloc[0][i]\n",
    "            df_col[existing_col_name] = country.strip()\n",
    "        else: \n",
    "            df_col[existing_col_name] = existing_col_name\n",
    "    \n",
    "    df.rename(columns=df_col, inplace=True)\n",
    "    return df.drop(0).reset_index(drop=True)"
   ]
  },
  {
   "cell_type": "code",
   "execution_count": 4,
   "id": "985113d3",
   "metadata": {},
   "outputs": [],
   "source": [
    "def remove_brackets(df):\n",
    "    for i in range(len(df)): \n",
    "        for j in range(1, len(df.columns)): \n",
    "            \n",
    "            col = df.iloc[i][j]\n",
    "            if type(col) == str:\n",
    "                try:\n",
    "                    bracket_pos = col.index('(')\n",
    "                    value = col[:bracket_pos-1]\n",
    "                    df.iloc[i, j] = value\n",
    "                except: \n",
    "                    pass\n",
    "                \n",
    "    return df"
   ]
  },
  {
   "cell_type": "code",
   "execution_count": 5,
   "id": "122fbcd5",
   "metadata": {},
   "outputs": [],
   "source": [
    "def clean_df1():\n",
    "    for i in range(len(df)): \n",
    "        for j in range(1, len(df.columns)): \n",
    "\n",
    "            col = df.iloc[i][j]\n",
    "            if type(col) == str and ' ' in col: \n",
    "                value = col.replace(\" \", \"\")\n",
    "            elif type(col) == str and ',' in col:\n",
    "                value = col.replace(\",\", \"\")\n",
    "            else: \n",
    "                value = col\n",
    "\n",
    "            try: \n",
    "                df.iloc[i, j] = int(value)\n",
    "            except: \n",
    "                df.iloc[i, j] = int(value.replace('\\u202c', '')) "
   ]
  },
  {
   "cell_type": "code",
   "execution_count": 6,
   "id": "96ce4861",
   "metadata": {
    "scrolled": true
   },
   "outputs": [],
   "source": [
    "df = rename_col(df)\n",
    "\n",
    "df = remove_brackets(df)\n",
    "\n",
    "clean_df1()"
   ]
  },
  {
   "cell_type": "code",
   "execution_count": 7,
   "id": "c33b6444",
   "metadata": {},
   "outputs": [],
   "source": [
    "url = 'https://en.m.wikipedia.org/wiki/List_of_countries_and_dependencies_by_population'\n",
    "html = urlopen(url) \n",
    "soup = BeautifulSoup(html, 'html.parser')\n",
    "tables = soup.find_all('table')"
   ]
  },
  {
   "cell_type": "code",
   "execution_count": 8,
   "id": "9bcec0d2",
   "metadata": {},
   "outputs": [],
   "source": [
    "population_dic = {}\n",
    "\n",
    "for table in tables:\n",
    "    rows = table.find_all('tr')\n",
    "    \n",
    "    for i in range(len(rows)):\n",
    "        if i > 1: \n",
    "            row = rows[i]\n",
    "            cells = row.find_all('td')\n",
    "            \n",
    "            country = cells[0].text.strip()\n",
    "            population = cells[2].text.strip()\n",
    "            population = population.replace(\",\", \"\")\n",
    "            population_dic[country] = int(population)"
   ]
  },
  {
   "cell_type": "markdown",
   "id": "15d64474",
   "metadata": {},
   "source": [
    "<a id='users'></a><h1>2. Use cases</h1>"
   ]
  },
  {
   "cell_type": "markdown",
   "id": "6ab178f1",
   "metadata": {},
   "source": [
    "<a id='use1'></a><h2>2a. Use case 1</h2>"
   ]
  },
  {
   "cell_type": "markdown",
   "id": "9ee6a8fb",
   "metadata": {},
   "source": [
    "#1: When I choose a social media network, I am able to get a view the number of users in each country."
   ]
  },
  {
   "cell_type": "code",
   "execution_count": 9,
   "id": "1880ce08",
   "metadata": {},
   "outputs": [],
   "source": [
    "# do not change the code below\n",
    "def filter_social(social, df=df): \n",
    "    social_df = df[df['Social Media Platform'] == social]\n",
    "    social_df = social_df.transpose()\n",
    "    social_df = social_df.rename(columns={'':'Country', 0:social})\n",
    "    social_df = social_df.drop('Social Media Platform')\n",
    "    return social_df"
   ]
  },
  {
   "cell_type": "code",
   "execution_count": 10,
   "id": "939fb281",
   "metadata": {},
   "outputs": [
    {
     "data": {
      "text/html": [
       "<div>\n",
       "<style scoped>\n",
       "    .dataframe tbody tr th:only-of-type {\n",
       "        vertical-align: middle;\n",
       "    }\n",
       "\n",
       "    .dataframe tbody tr th {\n",
       "        vertical-align: top;\n",
       "    }\n",
       "\n",
       "    .dataframe thead th {\n",
       "        text-align: right;\n",
       "    }\n",
       "</style>\n",
       "<table border=\"1\" class=\"dataframe\">\n",
       "  <thead>\n",
       "    <tr style=\"text-align: right;\">\n",
       "      <th></th>\n",
       "      <th>Bilibili</th>\n",
       "    </tr>\n",
       "  </thead>\n",
       "  <tbody>\n",
       "    <tr>\n",
       "      <th>United States</th>\n",
       "      <td>0</td>\n",
       "    </tr>\n",
       "    <tr>\n",
       "      <th>Indonesia</th>\n",
       "      <td>0</td>\n",
       "    </tr>\n",
       "    <tr>\n",
       "      <th>Singapore</th>\n",
       "      <td>0</td>\n",
       "    </tr>\n",
       "    <tr>\n",
       "      <th>China</th>\n",
       "      <td>27400000</td>\n",
       "    </tr>\n",
       "    <tr>\n",
       "      <th>India</th>\n",
       "      <td>0</td>\n",
       "    </tr>\n",
       "    <tr>\n",
       "      <th>Vietnam</th>\n",
       "      <td>0</td>\n",
       "    </tr>\n",
       "    <tr>\n",
       "      <th>Philippines</th>\n",
       "      <td>0</td>\n",
       "    </tr>\n",
       "    <tr>\n",
       "      <th>Bangladesh</th>\n",
       "      <td>0</td>\n",
       "    </tr>\n",
       "  </tbody>\n",
       "</table>\n",
       "</div>"
      ],
      "text/plain": [
       "               Bilibili\n",
       "United States         0\n",
       "Indonesia             0\n",
       "Singapore             0\n",
       "China          27400000\n",
       "India                 0\n",
       "Vietnam               0\n",
       "Philippines           0\n",
       "Bangladesh            0"
      ]
     },
     "execution_count": 10,
     "metadata": {},
     "output_type": "execute_result"
    }
   ],
   "source": [
    "filter_social('Bilibili')"
   ]
  },
  {
   "cell_type": "markdown",
   "id": "904b3dc1",
   "metadata": {},
   "source": [
    "<a id='use2'></a><h2>2b. Use case 2</h2>"
   ]
  },
  {
   "cell_type": "markdown",
   "id": "a00113cb",
   "metadata": {},
   "source": [
    "#2: When I choose a country, I am able to see all the relevant social networks its people use ranked in descending order."
   ]
  },
  {
   "cell_type": "code",
   "execution_count": 11,
   "id": "60258300",
   "metadata": {},
   "outputs": [],
   "source": [
    "# do not change the code below\n",
    "def filter_country(country, df=df): \n",
    "    sort_country_df = df.loc[: , ['Social Media Platform', country]]\n",
    "    return sort_country_df.sort_values(by=country, ascending=False)"
   ]
  },
  {
   "cell_type": "code",
   "execution_count": 12,
   "id": "a5be104c",
   "metadata": {},
   "outputs": [
    {
     "data": {
      "text/html": [
       "<div>\n",
       "<style scoped>\n",
       "    .dataframe tbody tr th:only-of-type {\n",
       "        vertical-align: middle;\n",
       "    }\n",
       "\n",
       "    .dataframe tbody tr th {\n",
       "        vertical-align: top;\n",
       "    }\n",
       "\n",
       "    .dataframe thead th {\n",
       "        text-align: right;\n",
       "    }\n",
       "</style>\n",
       "<table border=\"1\" class=\"dataframe\">\n",
       "  <thead>\n",
       "    <tr style=\"text-align: right;\">\n",
       "      <th></th>\n",
       "      <th>Social Media Platform</th>\n",
       "      <th>United States</th>\n",
       "    </tr>\n",
       "  </thead>\n",
       "  <tbody>\n",
       "    <tr>\n",
       "      <th>9</th>\n",
       "      <td>Youtube</td>\n",
       "      <td>192000000</td>\n",
       "    </tr>\n",
       "    <tr>\n",
       "      <th>1</th>\n",
       "      <td>Facebook</td>\n",
       "      <td>190000000</td>\n",
       "    </tr>\n",
       "    <tr>\n",
       "      <th>3</th>\n",
       "      <td>Linkedln</td>\n",
       "      <td>160000000</td>\n",
       "    </tr>\n",
       "    <tr>\n",
       "      <th>2</th>\n",
       "      <td>Instagram</td>\n",
       "      <td>107000000</td>\n",
       "    </tr>\n",
       "    <tr>\n",
       "      <th>6</th>\n",
       "      <td>Twitter</td>\n",
       "      <td>55700000</td>\n",
       "    </tr>\n",
       "    <tr>\n",
       "      <th>5</th>\n",
       "      <td>Tik Tok</td>\n",
       "      <td>45400000</td>\n",
       "    </tr>\n",
       "    <tr>\n",
       "      <th>0</th>\n",
       "      <td>Bilibili</td>\n",
       "      <td>0</td>\n",
       "    </tr>\n",
       "    <tr>\n",
       "      <th>4</th>\n",
       "      <td>Tencent QQ</td>\n",
       "      <td>0</td>\n",
       "    </tr>\n",
       "    <tr>\n",
       "      <th>7</th>\n",
       "      <td>WeChat</td>\n",
       "      <td>0</td>\n",
       "    </tr>\n",
       "    <tr>\n",
       "      <th>8</th>\n",
       "      <td>Weibo</td>\n",
       "      <td>0</td>\n",
       "    </tr>\n",
       "  </tbody>\n",
       "</table>\n",
       "</div>"
      ],
      "text/plain": [
       "  Social Media Platform United States\n",
       "9              Youtube      192000000\n",
       "1              Facebook     190000000\n",
       "3              Linkedln     160000000\n",
       "2             Instagram     107000000\n",
       "6               Twitter      55700000\n",
       "5               Tik Tok      45400000\n",
       "0              Bilibili             0\n",
       "4            Tencent QQ             0\n",
       "7                WeChat             0\n",
       "8                 Weibo             0"
      ]
     },
     "execution_count": 12,
     "metadata": {},
     "output_type": "execute_result"
    }
   ],
   "source": [
    "filter_country('United States')"
   ]
  },
  {
   "cell_type": "markdown",
   "id": "339fc3ce",
   "metadata": {},
   "source": [
    "<a id='use3'></a><h2>2c. Use case 3</h2>"
   ]
  },
  {
   "cell_type": "markdown",
   "id": "c515057b",
   "metadata": {},
   "source": [
    "#3: I can view a comparison of the percentage of users based on the population for each social media network by the population of the country. (You will have to scrape the population data and provide the source(s).)"
   ]
  },
  {
   "cell_type": "code",
   "execution_count": 13,
   "id": "582ed91a",
   "metadata": {},
   "outputs": [],
   "source": [
    "# do not edit the code below\n",
    "def get_percentage(country):\n",
    "    filtered_df = filter_country(country)\n",
    "\n",
    "    for row, col in filtered_df.iterrows(): \n",
    "        users = col[1]\n",
    "        population = population_dic[country]\n",
    "        percent = users / population * 100\n",
    "        percentage = f\"{percent:.2f}%\"\n",
    "        col[1] = percentage\n",
    "        \n",
    "    return filtered_df"
   ]
  },
  {
   "cell_type": "code",
   "execution_count": 14,
   "id": "ec40c1d8",
   "metadata": {},
   "outputs": [
    {
     "data": {
      "text/html": [
       "<div>\n",
       "<style scoped>\n",
       "    .dataframe tbody tr th:only-of-type {\n",
       "        vertical-align: middle;\n",
       "    }\n",
       "\n",
       "    .dataframe tbody tr th {\n",
       "        vertical-align: top;\n",
       "    }\n",
       "\n",
       "    .dataframe thead th {\n",
       "        text-align: right;\n",
       "    }\n",
       "</style>\n",
       "<table border=\"1\" class=\"dataframe\">\n",
       "  <thead>\n",
       "    <tr style=\"text-align: right;\">\n",
       "      <th></th>\n",
       "      <th>Social Media Platform</th>\n",
       "      <th>United States</th>\n",
       "    </tr>\n",
       "  </thead>\n",
       "  <tbody>\n",
       "    <tr>\n",
       "      <th>9</th>\n",
       "      <td>Youtube</td>\n",
       "      <td>57.70%</td>\n",
       "    </tr>\n",
       "    <tr>\n",
       "      <th>1</th>\n",
       "      <td>Facebook</td>\n",
       "      <td>57.10%</td>\n",
       "    </tr>\n",
       "    <tr>\n",
       "      <th>3</th>\n",
       "      <td>Linkedln</td>\n",
       "      <td>48.08%</td>\n",
       "    </tr>\n",
       "    <tr>\n",
       "      <th>2</th>\n",
       "      <td>Instagram</td>\n",
       "      <td>32.16%</td>\n",
       "    </tr>\n",
       "    <tr>\n",
       "      <th>6</th>\n",
       "      <td>Twitter</td>\n",
       "      <td>16.74%</td>\n",
       "    </tr>\n",
       "    <tr>\n",
       "      <th>5</th>\n",
       "      <td>Tik Tok</td>\n",
       "      <td>13.64%</td>\n",
       "    </tr>\n",
       "    <tr>\n",
       "      <th>0</th>\n",
       "      <td>Bilibili</td>\n",
       "      <td>0.00%</td>\n",
       "    </tr>\n",
       "    <tr>\n",
       "      <th>4</th>\n",
       "      <td>Tencent QQ</td>\n",
       "      <td>0.00%</td>\n",
       "    </tr>\n",
       "    <tr>\n",
       "      <th>7</th>\n",
       "      <td>WeChat</td>\n",
       "      <td>0.00%</td>\n",
       "    </tr>\n",
       "    <tr>\n",
       "      <th>8</th>\n",
       "      <td>Weibo</td>\n",
       "      <td>0.00%</td>\n",
       "    </tr>\n",
       "  </tbody>\n",
       "</table>\n",
       "</div>"
      ],
      "text/plain": [
       "  Social Media Platform United States\n",
       "9              Youtube         57.70%\n",
       "1              Facebook        57.10%\n",
       "3              Linkedln        48.08%\n",
       "2             Instagram        32.16%\n",
       "6               Twitter        16.74%\n",
       "5               Tik Tok        13.64%\n",
       "0              Bilibili         0.00%\n",
       "4            Tencent QQ         0.00%\n",
       "7                WeChat         0.00%\n",
       "8                 Weibo         0.00%"
      ]
     },
     "execution_count": 14,
     "metadata": {},
     "output_type": "execute_result"
    }
   ],
   "source": [
    "get_percentage('United States')"
   ]
  },
  {
   "cell_type": "code",
   "execution_count": null,
   "id": "44a80c23",
   "metadata": {},
   "outputs": [],
   "source": []
  }
 ],
 "metadata": {
  "kernelspec": {
   "display_name": "Python 3 (ipykernel)",
   "language": "python",
   "name": "python3"
  },
  "language_info": {
   "codemirror_mode": {
    "name": "ipython",
    "version": 3
   },
   "file_extension": ".py",
   "mimetype": "text/x-python",
   "name": "python",
   "nbconvert_exporter": "python",
   "pygments_lexer": "ipython3",
   "version": "3.9.7"
  }
 },
 "nbformat": 4,
 "nbformat_minor": 5
}
